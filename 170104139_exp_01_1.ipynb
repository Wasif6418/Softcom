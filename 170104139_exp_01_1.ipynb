{
  "nbformat": 4,
  "nbformat_minor": 0,
  "metadata": {
    "colab": {
      "name": "170104139_exp_01_1.ipynb",
      "provenance": [],
      "collapsed_sections": []
    },
    "kernelspec": {
      "name": "python3",
      "display_name": "Python 3"
    },
    "language_info": {
      "name": "python"
    },
    "accelerator": "GPU"
  },
  "cells": [
    {
      "cell_type": "code",
      "metadata": {
        "id": "4UMKTgRoeqfW"
      },
      "source": [
        "import numpy as np\n",
        "import pandas as pd\n",
        "import torch\n",
        "import torch.nn as nn\n",
        "import torch.nn.functional as F\n",
        "import torch.optim as optim\n",
        "from torch.utils.data import Dataset\n",
        "from torch.utils.data.sampler import SubsetRandomSampler\n",
        "import matplotlib\n",
        "import matplotlib.pyplot as plt\n",
        "from PIL import Image\n",
        "from torchvision import datasets, transforms, models\n",
        "from torch.autograd import Variable\n",
        "from zipfile import ZipFile\n",
        "import os\n",
        "from os import path\n",
        "import shutil"
      ],
      "execution_count": 2,
      "outputs": []
    },
    {
      "cell_type": "code",
      "metadata": {
        "colab": {
          "base_uri": "https://localhost:8080/"
        },
        "id": "fC445TxmnJ6g",
        "outputId": "e4c7fa51-6129-4998-f7ae-87a69c516cac"
      },
      "source": [
        "from google.colab import drive\n",
        "drive.mount('/content/drive')"
      ],
      "execution_count": 3,
      "outputs": [
        {
          "output_type": "stream",
          "name": "stdout",
          "text": [
            "Mounted at /content/drive\n"
          ]
        }
      ]
    },
    {
      "cell_type": "code",
      "metadata": {
        "id": "RManlEUee0_s"
      },
      "source": [
        "url = '/content/drive/MyDrive/4238/'"
      ],
      "execution_count": 4,
      "outputs": []
    },
    {
      "cell_type": "code",
      "metadata": {
        "id": "HC1Mh0lIGogh"
      },
      "source": [
        "dataset_C = url + 'dataset_2_image.zip'\n",
        "with ZipFile(dataset_C, 'r') as zip:\n",
        "  zip.extractall()"
      ],
      "execution_count": 5,
      "outputs": []
    },
    {
      "cell_type": "code",
      "metadata": {
        "colab": {
          "base_uri": "https://localhost:8080/",
          "height": 205
        },
        "id": "xy-Cey0sf9Fz",
        "outputId": "f7e22242-0fae-4067-9775-85840d146ed9"
      },
      "source": [
        "PATH = '/content/'\n",
        "train_data_labels = pd.read_csv('/content/csv/updatetrain.csv', usecols = ['filename', 'digit'])\n",
        "test_data_labels = pd.read_csv('/content/csv/updatetest.csv', usecols = ['filename', 'digit'])\n",
        "train_data_labels.head()\n"
      ],
      "execution_count": 6,
      "outputs": [
        {
          "output_type": "execute_result",
          "data": {
            "text/html": [
              "<div>\n",
              "<style scoped>\n",
              "    .dataframe tbody tr th:only-of-type {\n",
              "        vertical-align: middle;\n",
              "    }\n",
              "\n",
              "    .dataframe tbody tr th {\n",
              "        vertical-align: top;\n",
              "    }\n",
              "\n",
              "    .dataframe thead th {\n",
              "        text-align: right;\n",
              "    }\n",
              "</style>\n",
              "<table border=\"1\" class=\"dataframe\">\n",
              "  <thead>\n",
              "    <tr style=\"text-align: right;\">\n",
              "      <th></th>\n",
              "      <th>filename</th>\n",
              "      <th>digit</th>\n",
              "    </tr>\n",
              "  </thead>\n",
              "  <tbody>\n",
              "    <tr>\n",
              "      <th>0</th>\n",
              "      <td>0.jpg</td>\n",
              "      <td>9</td>\n",
              "    </tr>\n",
              "    <tr>\n",
              "      <th>1</th>\n",
              "      <td>1.jpg</td>\n",
              "      <td>0</td>\n",
              "    </tr>\n",
              "    <tr>\n",
              "      <th>2</th>\n",
              "      <td>2.jpg</td>\n",
              "      <td>0</td>\n",
              "    </tr>\n",
              "    <tr>\n",
              "      <th>3</th>\n",
              "      <td>3.jpg</td>\n",
              "      <td>3</td>\n",
              "    </tr>\n",
              "    <tr>\n",
              "      <th>4</th>\n",
              "      <td>4.jpg</td>\n",
              "      <td>0</td>\n",
              "    </tr>\n",
              "  </tbody>\n",
              "</table>\n",
              "</div>"
            ],
            "text/plain": [
              "  filename  digit\n",
              "0    0.jpg      9\n",
              "1    1.jpg      0\n",
              "2    2.jpg      0\n",
              "3    3.jpg      3\n",
              "4    4.jpg      0"
            ]
          },
          "metadata": {},
          "execution_count": 6
        }
      ]
    },
    {
      "cell_type": "code",
      "metadata": {
        "id": "zmE05jA4kTDU"
      },
      "source": [
        "class Dataset(Dataset):\n",
        "    def __init__(self, df, root, transform=None):\n",
        "        self.data = df\n",
        "        self.root = root\n",
        "        self.transform = transform\n",
        "        \n",
        "    def __len__(self):\n",
        "        return len(self.data)\n",
        "    \n",
        "    def __getitem__(self, index):\n",
        "        item = self.data.iloc[index]\n",
        "        \n",
        "        path = self.root + \"/\" + item[0]\n",
        "        image = Image.open(path).convert('L')\n",
        "        label = item[1]\n",
        "        \n",
        "        if self.transform is not None:\n",
        "            image = self.transform(image)\n",
        "            \n",
        "        return image, label"
      ],
      "execution_count": 7,
      "outputs": []
    },
    {
      "cell_type": "code",
      "metadata": {
        "colab": {
          "base_uri": "https://localhost:8080/"
        },
        "id": "adaZ60Uik-eb",
        "outputId": "26de674e-a7a0-43f6-cb28-8d90d3ba188c"
      },
      "source": [
        "mean = [0.5,]\n",
        "std = [0.5, ]\n",
        "\n",
        "train_transform = transforms.Compose([\n",
        "    transforms.Resize(28),\n",
        "    transforms.ToTensor(),\n",
        "    transforms.Normalize(mean, std)\n",
        "])\n",
        "\n",
        "test_transform = transforms.Compose([\n",
        "        transforms.Resize(28),\n",
        "        transforms.ToTensor(),\n",
        "        transforms.Normalize(mean, std)\n",
        "])\n",
        "\n",
        "train_data  = Dataset(train_data_labels, '/content/train', train_transform)\n",
        "test_data = Dataset(test_data_labels, '/content/test_28', test_transform)\n",
        "\n",
        "print(\"Trainig Samples: \", len(train_data))"
      ],
      "execution_count": 8,
      "outputs": [
        {
          "output_type": "stream",
          "name": "stdout",
          "text": [
            "Trainig Samples:  60000\n"
          ]
        }
      ]
    },
    {
      "cell_type": "markdown",
      "metadata": {
        "id": "J1P3RQWvq6PC"
      },
      "source": [
        "# **Base parameter**"
      ]
    },
    {
      "cell_type": "code",
      "metadata": {
        "colab": {
          "base_uri": "https://localhost:8080/"
        },
        "id": "P7h4UkKLqjjx",
        "outputId": "dd6a71ea-b670-42ec-e23e-ea228975597c"
      },
      "source": [
        "batch_size = 20\n",
        "num_iters = 20000\n",
        "input_dim = 28*28\n",
        "num_hidden = 200\n",
        "output_dim = 10\n",
        "\n",
        "learning_rate = 0.01\n",
        "\n",
        "num_epochs = num_iters / (len(train_data) / batch_size)\n",
        "num_epochs = int(num_epochs)\n",
        "print(num_epochs)\n",
        "\n",
        "device = torch.device(\"cuda:0\" if torch.cuda.is_available() else \"cpu\")"
      ],
      "execution_count": 9,
      "outputs": [
        {
          "output_type": "stream",
          "name": "stdout",
          "text": [
            "6\n"
          ]
        }
      ]
    },
    {
      "cell_type": "code",
      "metadata": {
        "colab": {
          "base_uri": "https://localhost:8080/"
        },
        "id": "IdcuCakZqjWx",
        "outputId": "6b789502-1a07-4784-a056-375c18a07b82"
      },
      "source": [
        "test_size = 0.2\n",
        "num_train = len(train_data)\n",
        "indices = list(range(num_train))\n",
        "np.random.shuffle(indices)\n",
        "split = int(np.floor(test_size * num_train))\n",
        "train_idx, test_idx = indices[split:], indices[:split]\n",
        "\n",
        "train_sampler = SubsetRandomSampler(train_idx)\n",
        "test_sampler = SubsetRandomSampler(test_idx)\n",
        "\n",
        "train_loader = torch.utils.data.DataLoader(\n",
        "    train_data, batch_size=batch_size,\n",
        "    sampler=train_sampler)\n",
        "\n",
        "test_loader = torch.utils.data.DataLoader(\n",
        "    train_data, batch_size=batch_size,\n",
        "    sampler=test_sampler)\n",
        "\n",
        "print(\"Train dataloader:{}\".format(len(train_loader)))\n",
        "print(\"Test dataloader:{}\".format(len(test_loader)))"
      ],
      "execution_count": 10,
      "outputs": [
        {
          "output_type": "stream",
          "name": "stdout",
          "text": [
            "Train dataloader:2400\n",
            "Test dataloader:600\n"
          ]
        }
      ]
    },
    {
      "cell_type": "code",
      "metadata": {
        "id": "R2dqlQy3qjOa"
      },
      "source": [
        "class DeepNeuralNetworkModel(nn.Module):\n",
        "    def __init__(self, input_size, num_classes, num_hidden):\n",
        "        super().__init__()\n",
        "       \n",
        "        self.linear_1 = nn.Linear(input_size, num_hidden)\n",
        "        self.relu_1 = nn.ReLU()\n",
        " \n",
        "        self.linear_2 = nn.Linear(num_hidden, num_hidden)\n",
        "        self.relu_2 = nn.ReLU()\n",
        " \n",
        "        self.linear_3 = nn.Linear(num_hidden, num_hidden)\n",
        "        self.relu_3 = nn.ReLU()\n",
        " \n",
        "        self.linear_4 = nn.Linear(num_hidden, num_hidden)\n",
        "        self.relu_4 = nn.ReLU()\n",
        " \n",
        "        self.linear_5= nn.Linear(num_hidden, num_hidden)\n",
        "        self.relu_5= nn.ReLU()\n",
        " \n",
        "        self.linear_6 = nn.Linear(num_hidden, num_hidden)\n",
        "        self.relu_6 = nn.ReLU()\n",
        " \n",
        "        self.linear_out = nn.Linear(num_hidden, num_classes)\n",
        " \n",
        "    def forward(self, x):\n",
        "        out  = self.linear_1(x)\n",
        "        out = self.relu_1(out)\n",
        "        \n",
        "        out  = self.linear_2(out)\n",
        "        out = self.relu_2(out)\n",
        " \n",
        "        out  = self.linear_3(out)\n",
        "        out = self.relu_3(out)\n",
        " \n",
        "        out  = self.linear_4(out)\n",
        "        out = self.relu_4(out)\n",
        " \n",
        "        out  = self.linear_5(out)\n",
        "        out = self.relu_5(out)\n",
        " \n",
        "        out  = self.linear_6(out)\n",
        "        out = self.relu_6(out)\n",
        "        \n",
        "        probas  = self.linear_out(out)\n",
        "        return probas"
      ],
      "execution_count": 11,
      "outputs": []
    },
    {
      "cell_type": "code",
      "metadata": {
        "colab": {
          "base_uri": "https://localhost:8080/"
        },
        "id": "xH8iW3TiqjCD",
        "outputId": "1a84f38b-1f32-4588-b66b-0e80ffb3eceb"
      },
      "source": [
        "model = DeepNeuralNetworkModel(input_size = input_dim, num_classes = output_dim, num_hidden = num_hidden)\n",
        "\n",
        "model.to(device)"
      ],
      "execution_count": 12,
      "outputs": [
        {
          "output_type": "execute_result",
          "data": {
            "text/plain": [
              "DeepNeuralNetworkModel(\n",
              "  (linear_1): Linear(in_features=784, out_features=200, bias=True)\n",
              "  (relu_1): ReLU()\n",
              "  (linear_2): Linear(in_features=200, out_features=200, bias=True)\n",
              "  (relu_2): ReLU()\n",
              "  (linear_3): Linear(in_features=200, out_features=200, bias=True)\n",
              "  (relu_3): ReLU()\n",
              "  (linear_4): Linear(in_features=200, out_features=200, bias=True)\n",
              "  (relu_4): ReLU()\n",
              "  (linear_5): Linear(in_features=200, out_features=200, bias=True)\n",
              "  (relu_5): ReLU()\n",
              "  (linear_6): Linear(in_features=200, out_features=200, bias=True)\n",
              "  (relu_6): ReLU()\n",
              "  (linear_out): Linear(in_features=200, out_features=10, bias=True)\n",
              ")"
            ]
          },
          "metadata": {},
          "execution_count": 12
        }
      ]
    },
    {
      "cell_type": "code",
      "metadata": {
        "id": "UeSi5M9Xqi6p"
      },
      "source": [
        "criterion = nn.CrossEntropyLoss()\n",
        "optimizer = torch.optim.SGD(model.parameters(), lr = learning_rate)"
      ],
      "execution_count": 13,
      "outputs": []
    },
    {
      "cell_type": "code",
      "metadata": {
        "colab": {
          "base_uri": "https://localhost:8080/"
        },
        "id": "VUpLzQYRqivb",
        "outputId": "ab181345-721b-40e4-85e7-b51926dc1cd8"
      },
      "source": [
        "iteration_loss = []\n",
        "iter = 0\n",
        "for epoch in range(num_epochs):\n",
        "    print('Epoch: ', epoch + 1)\n",
        "    for i, (images, labels) in enumerate(train_loader):\n",
        "\n",
        "        images = images.view(-1, 28*28).to(device)\n",
        "        labels = labels.to(device)\n",
        "\n",
        "        optimizer.zero_grad()\n",
        "\n",
        "        outputs = model(images) \n",
        "\n",
        "        loss = criterion(outputs, labels)\n",
        "\n",
        "        loss.backward()\n",
        "\n",
        "        optimizer.step()\n",
        "\n",
        "        iter += 1\n",
        "\n",
        "        if iter % 500 == 0:        \n",
        "            correct = 0\n",
        "            total = 0\n",
        "            for images, labels in test_loader:\n",
        "               \n",
        "                images = images.view(-1, 28*28).to(device)\n",
        "\n",
        "                outputs = model(images)\n",
        "\n",
        "                _, predicted = torch.max(outputs, 1)\n",
        "\n",
        "                total += labels.size(0)\n",
        "\n",
        "                if torch.cuda.is_available():\n",
        "                    correct += (predicted.cpu() == labels.cpu()).sum() \n",
        "                else:\n",
        "                    correct += (predicted == labels).sum()\n",
        "\n",
        "            accuracy = 100 * correct.item() / total\n",
        "\n",
        "            iteration_loss.append(loss.item())\n",
        "            print('Iteration: {}. Loss: {}. Accuracy: {}'.format(iter, loss.item(), accuracy))"
      ],
      "execution_count": 14,
      "outputs": [
        {
          "output_type": "stream",
          "name": "stdout",
          "text": [
            "Epoch:  1\n",
            "Iteration: 500. Loss: 2.300342082977295. Accuracy: 9.908333333333333\n",
            "Iteration: 1000. Loss: 2.302828311920166. Accuracy: 18.566666666666666\n",
            "Iteration: 1500. Loss: 2.2867488861083984. Accuracy: 31.466666666666665\n",
            "Iteration: 2000. Loss: 2.1350150108337402. Accuracy: 19.65\n",
            "Epoch:  2\n",
            "Iteration: 2500. Loss: 1.0355050563812256. Accuracy: 54.19166666666667\n",
            "Iteration: 3000. Loss: 0.7427798509597778. Accuracy: 66.60833333333333\n",
            "Iteration: 3500. Loss: 0.9775316119194031. Accuracy: 67.5\n",
            "Iteration: 4000. Loss: 0.5209141969680786. Accuracy: 71.675\n",
            "Iteration: 4500. Loss: 0.7858859300613403. Accuracy: 71.68333333333334\n",
            "Epoch:  3\n",
            "Iteration: 5000. Loss: 0.7016154527664185. Accuracy: 74.975\n",
            "Iteration: 5500. Loss: 0.499281644821167. Accuracy: 75.825\n",
            "Iteration: 6000. Loss: 0.4463684558868408. Accuracy: 75.00833333333334\n",
            "Iteration: 6500. Loss: 0.3441336154937744. Accuracy: 79.94166666666666\n",
            "Iteration: 7000. Loss: 0.30912521481513977. Accuracy: 76.7\n",
            "Epoch:  4\n",
            "Iteration: 7500. Loss: 0.2942730486392975. Accuracy: 79.04166666666667\n",
            "Iteration: 8000. Loss: 0.3583846688270569. Accuracy: 80.05833333333334\n",
            "Iteration: 8500. Loss: 0.2732554078102112. Accuracy: 82.63333333333334\n",
            "Iteration: 9000. Loss: 0.4822923243045807. Accuracy: 81.075\n",
            "Iteration: 9500. Loss: 0.463663250207901. Accuracy: 82.05833333333334\n",
            "Epoch:  5\n",
            "Iteration: 10000. Loss: 0.22997570037841797. Accuracy: 83.45\n",
            "Iteration: 10500. Loss: 0.45948919653892517. Accuracy: 80.95\n",
            "Iteration: 11000. Loss: 0.3679656386375427. Accuracy: 84.475\n",
            "Iteration: 11500. Loss: 0.5151966214179993. Accuracy: 85.04166666666667\n",
            "Iteration: 12000. Loss: 0.39157387614250183. Accuracy: 83.35833333333333\n",
            "Epoch:  6\n",
            "Iteration: 12500. Loss: 0.43707484006881714. Accuracy: 84.25\n",
            "Iteration: 13000. Loss: 0.35952526330947876. Accuracy: 83.58333333333333\n",
            "Iteration: 13500. Loss: 0.613085925579071. Accuracy: 84.54166666666667\n",
            "Iteration: 14000. Loss: 0.5570089817047119. Accuracy: 85.59166666666667\n"
          ]
        }
      ]
    },
    {
      "cell_type": "code",
      "metadata": {
        "colab": {
          "base_uri": "https://localhost:8080/",
          "height": 317
        },
        "id": "_Y2S60pTqisy",
        "outputId": "48dbaade-2a9b-41e8-a229-e14eea7bbcf3"
      },
      "source": [
        "print (iteration_loss)\n",
        "plt.plot(iteration_loss)\n",
        "plt.ylabel('Loss')\n",
        "plt.xlabel('Iteration')\n",
        "plt.show()"
      ],
      "execution_count": 15,
      "outputs": [
        {
          "output_type": "stream",
          "name": "stdout",
          "text": [
            "[2.300342082977295, 2.302828311920166, 2.2867488861083984, 2.1350150108337402, 1.0355050563812256, 0.7427798509597778, 0.9775316119194031, 0.5209141969680786, 0.7858859300613403, 0.7016154527664185, 0.499281644821167, 0.4463684558868408, 0.3441336154937744, 0.30912521481513977, 0.2942730486392975, 0.3583846688270569, 0.2732554078102112, 0.4822923243045807, 0.463663250207901, 0.22997570037841797, 0.45948919653892517, 0.3679656386375427, 0.5151966214179993, 0.39157387614250183, 0.43707484006881714, 0.35952526330947876, 0.613085925579071, 0.5570089817047119]\n"
          ]
        },
        {
          "output_type": "display_data",
          "data": {
            "image/png": "[encoded data removed]",
            "text/plain": [
              "<Figure size 432x288 with 1 Axes>"
            ]
          },
          "metadata": {
            "needs_background": "light"
          }
        }
      ]
    },
    {
      "cell_type": "markdown",
      "metadata": {
        "id": "8htM9w2LmUVl"
      },
      "source": [
        "# **1st parameter**"
      ]
    },
    {
      "cell_type": "code",
      "metadata": {
        "colab": {
          "base_uri": "https://localhost:8080/"
        },
        "id": "IGG3l4vrmkI3",
        "outputId": "04366cee-60e9-41a2-bb2a-39b7aae05af3"
      },
      "source": [
        "batch_size = 160\n",
        "num_iters = 20000\n",
        "input_dim = 28*28\n",
        "num_hidden = 200\n",
        "output_dim = 10\n",
        "\n",
        "learning_rate = 0.001\n",
        "\n",
        "num_epochs = num_iters / (len(train_data) / batch_size)\n",
        "num_epochs = int(num_epochs)\n",
        "print(num_epochs)\n",
        "\n",
        "device = torch.device(\"cuda:0\" if torch.cuda.is_available() else \"cpu\")"
      ],
      "execution_count": null,
      "outputs": [
        {
          "output_type": "stream",
          "name": "stdout",
          "text": [
            "53\n"
          ]
        }
      ]
    },
    {
      "cell_type": "code",
      "metadata": {
        "colab": {
          "base_uri": "https://localhost:8080/"
        },
        "id": "lsSesapsltZF",
        "outputId": "929cd791-f54b-4023-c932-d322552d8e13"
      },
      "source": [
        "test_size = 0.2\n",
        "num_train = len(train_data)\n",
        "indices = list(range(num_train))\n",
        "np.random.shuffle(indices)\n",
        "split = int(np.floor(test_size * num_train))\n",
        "train_idx, test_idx = indices[split:], indices[:split]\n",
        "\n",
        "train_sampler = SubsetRandomSampler(train_idx)\n",
        "test_sampler = SubsetRandomSampler(test_idx)\n",
        "\n",
        "train_loader = torch.utils.data.DataLoader(\n",
        "    train_data, batch_size=batch_size,\n",
        "    sampler=train_sampler)\n",
        "\n",
        "test_loader = torch.utils.data.DataLoader(\n",
        "    train_data, batch_size=batch_size,\n",
        "    sampler=test_sampler)\n",
        "\n",
        "print(\"Train dataloader:{}\".format(len(train_loader)))\n",
        "print(\"Test dataloader:{}\".format(len(test_loader)))"
      ],
      "execution_count": null,
      "outputs": [
        {
          "output_type": "stream",
          "name": "stdout",
          "text": [
            "Train dataloader:300\n",
            "Test dataloader:75\n"
          ]
        }
      ]
    },
    {
      "cell_type": "code",
      "metadata": {
        "id": "6jCcU8giniGS"
      },
      "source": [
        "class DeepNeuralNetworkModel(nn.Module):\n",
        "    def __init__(self, input_size, num_classes, num_hidden):\n",
        "        super().__init__()\n",
        "       \n",
        "        self.linear_1 = nn.Linear(input_size, num_hidden)\n",
        "        self.relu_1 = nn.ReLU()\n",
        " \n",
        "        self.linear_2 = nn.Linear(num_hidden, num_hidden)\n",
        "        self.relu_2 = nn.ReLU()\n",
        " \n",
        "        self.linear_3 = nn.Linear(num_hidden, num_hidden)\n",
        "        self.relu_3 = nn.ReLU()\n",
        " \n",
        "        self.linear_4 = nn.Linear(num_hidden, num_hidden)\n",
        "        self.relu_4 = nn.ReLU()\n",
        " \n",
        "        self.linear_5= nn.Linear(num_hidden, num_hidden)\n",
        "        self.relu_5= nn.ReLU()\n",
        " \n",
        "        self.linear_6 = nn.Linear(num_hidden, num_hidden)\n",
        "        self.relu_6 = nn.ReLU()\n",
        " \n",
        "        self.linear_out = nn.Linear(num_hidden, num_classes)\n",
        " \n",
        "    def forward(self, x):\n",
        "        out  = self.linear_1(x)\n",
        "        out = self.relu_1(out)\n",
        "        \n",
        "        out  = self.linear_2(out)\n",
        "        out = self.relu_2(out)\n",
        " \n",
        "        out  = self.linear_3(out)\n",
        "        out = self.relu_3(out)\n",
        " \n",
        "        out  = self.linear_4(out)\n",
        "        out = self.relu_4(out)\n",
        " \n",
        "        out  = self.linear_5(out)\n",
        "        out = self.relu_5(out)\n",
        " \n",
        "        out  = self.linear_6(out)\n",
        "        out = self.relu_6(out)\n",
        "        \n",
        "        probas  = self.linear_out(out)\n",
        "        return probas"
      ],
      "execution_count": null,
      "outputs": []
    },
    {
      "cell_type": "code",
      "metadata": {
        "colab": {
          "base_uri": "https://localhost:8080/"
        },
        "id": "Q23HotHio42L",
        "outputId": "8870b951-d03c-45be-f3ec-5e7dbc0f309b"
      },
      "source": [
        "model = DeepNeuralNetworkModel(input_size = input_dim, num_classes = output_dim, num_hidden = num_hidden)\n",
        "\n",
        "model.to(device)"
      ],
      "execution_count": null,
      "outputs": [
        {
          "output_type": "execute_result",
          "data": {
            "text/plain": [
              "DeepNeuralNetworkModel(\n",
              "  (linear_1): Linear(in_features=784, out_features=200, bias=True)\n",
              "  (relu_1): ReLU()\n",
              "  (linear_2): Linear(in_features=200, out_features=200, bias=True)\n",
              "  (relu_2): ReLU()\n",
              "  (linear_3): Linear(in_features=200, out_features=200, bias=True)\n",
              "  (relu_3): ReLU()\n",
              "  (linear_4): Linear(in_features=200, out_features=200, bias=True)\n",
              "  (relu_4): ReLU()\n",
              "  (linear_5): Linear(in_features=200, out_features=200, bias=True)\n",
              "  (relu_5): ReLU()\n",
              "  (linear_6): Linear(in_features=200, out_features=200, bias=True)\n",
              "  (relu_6): ReLU()\n",
              "  (linear_out): Linear(in_features=200, out_features=10, bias=True)\n",
              ")"
            ]
          },
          "metadata": {},
          "execution_count": 14
        }
      ]
    },
    {
      "cell_type": "code",
      "metadata": {
        "id": "V1YagXSipEth"
      },
      "source": [
        "criterion = nn.CrossEntropyLoss()\n",
        "optimizer = torch.optim.SGD(model.parameters(), lr = learning_rate)"
      ],
      "execution_count": null,
      "outputs": []
    },
    {
      "cell_type": "code",
      "metadata": {
        "colab": {
          "base_uri": "https://localhost:8080/"
        },
        "id": "6VJ_sYCMp2l9",
        "outputId": "934e0bef-20bc-422b-8f19-24ce264bf4b5"
      },
      "source": [
        "iteration_loss = []\n",
        "iter = 0\n",
        "for epoch in range(num_epochs):\n",
        "    print('Epoch: ', epoch + 1)\n",
        "    for i, (images, labels) in enumerate(train_loader):\n",
        "\n",
        "        images = images.view(-1, 28*28).to(device)\n",
        "        labels = labels.to(device)\n",
        "\n",
        "        optimizer.zero_grad()\n",
        "\n",
        "        outputs = model(images) \n",
        "\n",
        "        loss = criterion(outputs, labels)\n",
        "\n",
        "        loss.backward()\n",
        "\n",
        "        optimizer.step()\n",
        "\n",
        "        iter += 1\n",
        "\n",
        "        if iter % 500 == 0:        \n",
        "            correct = 0\n",
        "            total = 0\n",
        "            for images, labels in test_loader:\n",
        "               \n",
        "                images = images.view(-1, 28*28).to(device)\n",
        "\n",
        "                outputs = model(images)\n",
        "\n",
        "                _, predicted = torch.max(outputs, 1)\n",
        "\n",
        "                total += labels.size(0)\n",
        "\n",
        "                if torch.cuda.is_available():\n",
        "                    correct += (predicted.cpu() == labels.cpu()).sum() \n",
        "                else:\n",
        "                    correct += (predicted == labels).sum()\n",
        "\n",
        "            accuracy = 100 * correct.item() / total\n",
        "\n",
        "            iteration_loss.append(loss.item())\n",
        "            print('Iteration: {}. Loss: {}. Accuracy: {}'.format(iter, loss.item(), accuracy))"
      ],
      "execution_count": 16,
      "outputs": [
        {
          "output_type": "stream",
          "name": "stdout",
          "text": [
            "Epoch:  1\n",
            "Epoch:  2\n",
            "Iteration: 500. Loss: 2.3035635948181152. Accuracy: 9.708333333333334\n",
            "Epoch:  3\n",
            "Epoch:  4\n",
            "Iteration: 1000. Loss: 2.30642032623291. Accuracy: 9.708333333333334\n",
            "Epoch:  5\n",
            "Iteration: 1500. Loss: 2.300788164138794. Accuracy: 9.708333333333334\n",
            "Epoch:  6\n",
            "Epoch:  7\n",
            "Iteration: 2000. Loss: 2.3004486560821533. Accuracy: 9.708333333333334\n",
            "Epoch:  8\n",
            "Epoch:  9\n",
            "Iteration: 2500. Loss: 2.3004403114318848. Accuracy: 9.708333333333334\n",
            "Epoch:  10\n",
            "Iteration: 3000. Loss: 2.301713466644287. Accuracy: 9.708333333333334\n",
            "Epoch:  11\n",
            "Epoch:  12\n",
            "Iteration: 3500. Loss: 2.303467273712158. Accuracy: 9.708333333333334\n",
            "Epoch:  13\n",
            "Epoch:  14\n",
            "Iteration: 4000. Loss: 2.30206036567688. Accuracy: 9.708333333333334\n",
            "Epoch:  15\n",
            "Iteration: 4500. Loss: 2.300164222717285. Accuracy: 9.708333333333334\n",
            "Epoch:  16\n",
            "Epoch:  17\n",
            "Iteration: 5000. Loss: 2.3017754554748535. Accuracy: 9.708333333333334\n",
            "Epoch:  18\n",
            "Epoch:  19\n",
            "Iteration: 5500. Loss: 2.2991418838500977. Accuracy: 9.708333333333334\n",
            "Epoch:  20\n",
            "Iteration: 6000. Loss: 2.297436237335205. Accuracy: 9.708333333333334\n",
            "Epoch:  21\n",
            "Epoch:  22\n",
            "Iteration: 6500. Loss: 2.2985711097717285. Accuracy: 9.708333333333334\n",
            "Epoch:  23\n",
            "Epoch:  24\n",
            "Iteration: 7000. Loss: 2.300234317779541. Accuracy: 9.708333333333334\n",
            "Epoch:  25\n",
            "Iteration: 7500. Loss: 2.296830654144287. Accuracy: 9.708333333333334\n",
            "Epoch:  26\n",
            "Epoch:  27\n",
            "Iteration: 8000. Loss: 2.2974116802215576. Accuracy: 9.708333333333334\n",
            "Epoch:  28\n",
            "Epoch:  29\n",
            "Iteration: 8500. Loss: 2.292680263519287. Accuracy: 9.708333333333334\n",
            "Epoch:  30\n",
            "Iteration: 9000. Loss: 2.2925641536712646. Accuracy: 11.9\n",
            "Epoch:  31\n",
            "Epoch:  32\n",
            "Iteration: 9500. Loss: 2.294842481613159. Accuracy: 16.558333333333334\n",
            "Epoch:  33\n",
            "Epoch:  34\n",
            "Iteration: 10000. Loss: 2.289865016937256. Accuracy: 18.316666666666666\n",
            "Epoch:  35\n",
            "Iteration: 10500. Loss: 2.2902233600616455. Accuracy: 20.341666666666665\n",
            "Epoch:  36\n",
            "Epoch:  37\n",
            "Iteration: 11000. Loss: 2.2830607891082764. Accuracy: 24.333333333333332\n",
            "Epoch:  38\n",
            "Epoch:  39\n",
            "Iteration: 11500. Loss: 2.2796759605407715. Accuracy: 28.333333333333332\n",
            "Epoch:  40\n",
            "Iteration: 12000. Loss: 2.279045343399048. Accuracy: 31.291666666666668\n",
            "Epoch:  41\n",
            "Epoch:  42\n",
            "Iteration: 12500. Loss: 2.2651753425598145. Accuracy: 32.63333333333333\n",
            "Epoch:  43\n",
            "Epoch:  44\n",
            "Iteration: 13000. Loss: 2.2654948234558105. Accuracy: 32.8\n",
            "Epoch:  45\n",
            "Iteration: 13500. Loss: 2.248147487640381. Accuracy: 32.68333333333333\n",
            "Epoch:  46\n",
            "Epoch:  47\n",
            "Iteration: 14000. Loss: 2.2262191772460938. Accuracy: 32.65\n",
            "Epoch:  48\n",
            "Epoch:  49\n",
            "Iteration: 14500. Loss: 2.205634355545044. Accuracy: 30.941666666666666\n",
            "Epoch:  50\n",
            "Iteration: 15000. Loss: 2.158198595046997. Accuracy: 28.683333333333334\n",
            "Epoch:  51\n",
            "Epoch:  52\n",
            "Iteration: 15500. Loss: 2.0751330852508545. Accuracy: 27.4\n",
            "Epoch:  53\n"
          ]
        }
      ]
    },
    {
      "cell_type": "code",
      "metadata": {
        "id": "IwU44FpRqO9t"
      },
      "source": [
        "torch.save(model.state_dict(), '/content/drive/MyDrive/SoftComputing/Models/model_base.pkl')"
      ],
      "execution_count": null,
      "outputs": []
    },
    {
      "cell_type": "code",
      "metadata": {
        "colab": {
          "base_uri": "https://localhost:8080/",
          "height": 317
        },
        "id": "1AIS0RVwq8ul",
        "outputId": "bb35dc6f-4435-476e-ed31-6e239199d954"
      },
      "source": [
        "print (iteration_loss)\n",
        "plt.plot(iteration_loss)\n",
        "plt.ylabel('Loss')\n",
        "plt.xlabel('Iteration')\n",
        "plt.show()"
      ],
      "execution_count": null,
      "outputs": [
        {
          "output_type": "stream",
          "name": "stdout",
          "text": [
            "[2.299156904220581, 2.297672748565674, 2.2894980907440186, 2.2174315452575684, 2.168926477432251, 2.1636240482330322, 2.1168837547302246, 2.0823447704315186, 2.1153063774108887, 2.189105272293091, 2.5992228984832764, 1.992919921875, 2.0323586463928223, 1.8592212200164795, 1.9729278087615967, 1.6864557266235352, 1.698714256286621, 1.7902183532714844, 1.9283621311187744, 1.7759249210357666, 1.6246389150619507, 1.7828105688095093, 1.6225640773773193, 1.607317328453064, 1.3969322443008423, 1.2446510791778564, 1.210620641708374, 1.5196449756622314, 1.335086464881897, 1.249072790145874, 1.3305909633636475, 1.2058521509170532, 1.1778199672698975, 1.0261679887771606, 1.1026332378387451, 1.1505647897720337, 1.0218572616577148, 0.8724683523178101, 1.6969444751739502, 6.386862754821777, 1.366180181503296, 0.9178085327148438, 1.0142598152160645, 0.8064029812812805, 0.6427953243255615, 1.7719676494598389, 0.7417698502540588, 0.9788020253181458, 0.7263976335525513, 0.48985567688941956, 0.8770996928215027, 0.7946244478225708, 1.1006065607070923, 0.5937454104423523, 1.0366685390472412, 1.5840328931808472, 0.8476738929748535, 0.8911239504814148, 1.3229089975357056, 0.8636394739151001, 1.8847482204437256, 0.809721827507019, 0.5883952975273132, 0.6441303491592407, 0.8301727175712585, 0.4035731852054596, 1.7780128717422485, 0.5825117826461792, 0.9680734872817993, 0.5641822814941406, 0.2861309051513672, 0.402762234210968, 0.16398334503173828, 0.14972686767578125, 0.2213241308927536, 0.20206458866596222, 0.36989685893058777, 0.3975371718406677, 0.14179280400276184, 0.21339388191699982]\n"
          ]
        },
        {
          "output_type": "display_data",
          "data": {
            "image/png": "[encoded data removed]",
            "text/plain": [
              "<Figure size 432x288 with 1 Axes>"
            ]
          },
          "metadata": {
            "needs_background": "light"
          }
        }
      ]
    }
  ]
}